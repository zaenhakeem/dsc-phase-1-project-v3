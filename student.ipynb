{
 "cells": [
  {
   "cell_type": "markdown",
   "metadata": {},
   "source": [
    "## Final Project Submission\n",
    "\n",
    "Please fill out:\n",
    "* Student name: Abdihakim Issack\n",
    "* Student pace: Hybrid Full Time\n",
    "* Scheduled project review date/time: \n",
    "* Instructor name: Maryann Mwikali\n",
    "\n"
   ]
  },
  {
   "cell_type": "markdown",
   "metadata": {},
   "source": [
    "### Business Understanding\n",
    "\n",
    "We’re looking into whether it’s a good idea for the company to enter the aviation industry by diving deep into historical aviation accident data, spanning from 1962 to 2023. The goal is to pull out insights that help decision-makers figure out which aircraft are the safest, what factors contribute to accidents, and how we can avoid these risks. This way, we can reduce our exposure to potential hazards and make smart investment decisions while ensuring we can compete effectively in the aviation market.\n",
    "\n",
    "The aviation industry has a lot of moving parts — from aircraft models to weather conditions, pilot experience, and even regional regulations. By digging into the data, we’re hoping to find answers to key questions like:\n",
    "\n",
    "1. **Aircraft Safety**: What aircraft models have the least accidents and fatalities? This will help the company make informed decisions about what kind of planes we should invest in for our operations.\n",
    "\n",
    "2. **Geography**: Are certain regions safer than others when it comes to aviation? It would help to know where we’re most likely to face risks, whether that’s due to weather, infrastructure, or air traffic control standards.\n",
    "\n",
    "3. **Purpose of Flight**: Whether a flight is personal, for business, or for training makes a big difference when it comes to safety. This analysis will help us understand which type of flights we should prioritize.\n",
    "\n",
    "4. **Weather Conditions**: Weather is a major factor in accidents. Understanding how different conditions impact safety will allow us to put measures in place and plan accordingly.\n",
    "\n",
    "---\n",
    "\n",
    "### Key Questions:\n",
    "\n",
    "- **Which aircraft models are safest?** This is vital for us to make the right decisions when purchasing planes for the business.\n",
    "  \n",
    "- **Which regions have the best safety records?** This will help guide where we set up operations and what kind of risks we might need to mitigate.\n",
    "\n",
    "- **How does the flight’s purpose affect safety?** Whether a flight is for business, personal, or training makes a big difference in terms of risk. Knowing this will allow us to focus on the safest and most efficient operations.\n",
    "\n",
    "- **What role does weather play in accidents?** Understanding this will help us adjust operations and safety protocols based on weather risks.\n",
    "\n",
    "---\n",
    "\n",
    "### Expected Outcomes:\n",
    "\n",
    "At the end of this analysis, we expect to have a clearer picture of:\n",
    "\n",
    "1. **Aircraft Purchases**: Recommendations on which aircraft types we should invest in, based on safety records.\n",
    "  \n",
    "2. **Operational Strategy**: What type of flights will be safest and most profitable for us to focus on.\n",
    "  \n",
    "3. **Geographical Focus**: Identifying regions that have the lowest risks for our operations.\n",
    "  \n",
    "4. **Risk Management**: Suggestions for safety measures (like pilot training or tech investments) that will help us reduce accident risks.\n",
    "\n",
    "These insights will guide how we enter the aviation market, ensuring our decisions are based on safety and long-term success.\n"
   ]
  },
  {
   "cell_type": "markdown",
   "metadata": {},
   "source": [
    "### Load the data ###\n",
    "Here we start by loading the necessary Libraries required "
   ]
  },
  {
   "cell_type": "code",
   "execution_count": 2,
   "metadata": {},
   "outputs": [],
   "source": [
    "# Your code here - remember to use markdown cells for comments as well!\n",
    "import pandas as pd\n",
    "import numpy as np\n",
    "import matplotlib.pyplot as plt\n",
    "import seaborn as sns\n",
    "%matplotlib inline\n"
   ]
  },
  {
   "cell_type": "markdown",
   "metadata": {},
   "source": [
    "### Load the dataset ###\n",
    "We load the Dataset and display the first rows of the data and analyze the structure. Use low_memory=False since we are working with a very big data set"
   ]
  },
  {
   "cell_type": "code",
   "execution_count": 3,
   "metadata": {
    "scrolled": false
   },
   "outputs": [
    {
     "data": {
      "text/html": [
       "<div>\n",
       "<style scoped>\n",
       "    .dataframe tbody tr th:only-of-type {\n",
       "        vertical-align: middle;\n",
       "    }\n",
       "\n",
       "    .dataframe tbody tr th {\n",
       "        vertical-align: top;\n",
       "    }\n",
       "\n",
       "    .dataframe thead th {\n",
       "        text-align: right;\n",
       "    }\n",
       "</style>\n",
       "<table border=\"1\" class=\"dataframe\">\n",
       "  <thead>\n",
       "    <tr style=\"text-align: right;\">\n",
       "      <th></th>\n",
       "      <th>Event.Id</th>\n",
       "      <th>Investigation.Type</th>\n",
       "      <th>Accident.Number</th>\n",
       "      <th>Event.Date</th>\n",
       "      <th>Location</th>\n",
       "      <th>Country</th>\n",
       "      <th>Latitude</th>\n",
       "      <th>Longitude</th>\n",
       "      <th>Airport.Code</th>\n",
       "      <th>Airport.Name</th>\n",
       "      <th>...</th>\n",
       "      <th>Purpose.of.flight</th>\n",
       "      <th>Air.carrier</th>\n",
       "      <th>Total.Fatal.Injuries</th>\n",
       "      <th>Total.Serious.Injuries</th>\n",
       "      <th>Total.Minor.Injuries</th>\n",
       "      <th>Total.Uninjured</th>\n",
       "      <th>Weather.Condition</th>\n",
       "      <th>Broad.phase.of.flight</th>\n",
       "      <th>Report.Status</th>\n",
       "      <th>Publication.Date</th>\n",
       "    </tr>\n",
       "  </thead>\n",
       "  <tbody>\n",
       "    <tr>\n",
       "      <th>0</th>\n",
       "      <td>20001218X45444</td>\n",
       "      <td>Accident</td>\n",
       "      <td>SEA87LA080</td>\n",
       "      <td>1948-10-24</td>\n",
       "      <td>MOOSE CREEK, ID</td>\n",
       "      <td>United States</td>\n",
       "      <td>NaN</td>\n",
       "      <td>NaN</td>\n",
       "      <td>NaN</td>\n",
       "      <td>NaN</td>\n",
       "      <td>...</td>\n",
       "      <td>Personal</td>\n",
       "      <td>NaN</td>\n",
       "      <td>2.0</td>\n",
       "      <td>0.0</td>\n",
       "      <td>0.0</td>\n",
       "      <td>0.0</td>\n",
       "      <td>UNK</td>\n",
       "      <td>Cruise</td>\n",
       "      <td>Probable Cause</td>\n",
       "      <td>NaN</td>\n",
       "    </tr>\n",
       "    <tr>\n",
       "      <th>1</th>\n",
       "      <td>20001218X45447</td>\n",
       "      <td>Accident</td>\n",
       "      <td>LAX94LA336</td>\n",
       "      <td>1962-07-19</td>\n",
       "      <td>BRIDGEPORT, CA</td>\n",
       "      <td>United States</td>\n",
       "      <td>NaN</td>\n",
       "      <td>NaN</td>\n",
       "      <td>NaN</td>\n",
       "      <td>NaN</td>\n",
       "      <td>...</td>\n",
       "      <td>Personal</td>\n",
       "      <td>NaN</td>\n",
       "      <td>4.0</td>\n",
       "      <td>0.0</td>\n",
       "      <td>0.0</td>\n",
       "      <td>0.0</td>\n",
       "      <td>UNK</td>\n",
       "      <td>Unknown</td>\n",
       "      <td>Probable Cause</td>\n",
       "      <td>19-09-1996</td>\n",
       "    </tr>\n",
       "    <tr>\n",
       "      <th>2</th>\n",
       "      <td>20061025X01555</td>\n",
       "      <td>Accident</td>\n",
       "      <td>NYC07LA005</td>\n",
       "      <td>1974-08-30</td>\n",
       "      <td>Saltville, VA</td>\n",
       "      <td>United States</td>\n",
       "      <td>36.922223</td>\n",
       "      <td>-81.878056</td>\n",
       "      <td>NaN</td>\n",
       "      <td>NaN</td>\n",
       "      <td>...</td>\n",
       "      <td>Personal</td>\n",
       "      <td>NaN</td>\n",
       "      <td>3.0</td>\n",
       "      <td>NaN</td>\n",
       "      <td>NaN</td>\n",
       "      <td>NaN</td>\n",
       "      <td>IMC</td>\n",
       "      <td>Cruise</td>\n",
       "      <td>Probable Cause</td>\n",
       "      <td>26-02-2007</td>\n",
       "    </tr>\n",
       "    <tr>\n",
       "      <th>3</th>\n",
       "      <td>20001218X45448</td>\n",
       "      <td>Accident</td>\n",
       "      <td>LAX96LA321</td>\n",
       "      <td>1977-06-19</td>\n",
       "      <td>EUREKA, CA</td>\n",
       "      <td>United States</td>\n",
       "      <td>NaN</td>\n",
       "      <td>NaN</td>\n",
       "      <td>NaN</td>\n",
       "      <td>NaN</td>\n",
       "      <td>...</td>\n",
       "      <td>Personal</td>\n",
       "      <td>NaN</td>\n",
       "      <td>2.0</td>\n",
       "      <td>0.0</td>\n",
       "      <td>0.0</td>\n",
       "      <td>0.0</td>\n",
       "      <td>IMC</td>\n",
       "      <td>Cruise</td>\n",
       "      <td>Probable Cause</td>\n",
       "      <td>12-09-2000</td>\n",
       "    </tr>\n",
       "    <tr>\n",
       "      <th>4</th>\n",
       "      <td>20041105X01764</td>\n",
       "      <td>Accident</td>\n",
       "      <td>CHI79FA064</td>\n",
       "      <td>1979-08-02</td>\n",
       "      <td>Canton, OH</td>\n",
       "      <td>United States</td>\n",
       "      <td>NaN</td>\n",
       "      <td>NaN</td>\n",
       "      <td>NaN</td>\n",
       "      <td>NaN</td>\n",
       "      <td>...</td>\n",
       "      <td>Personal</td>\n",
       "      <td>NaN</td>\n",
       "      <td>1.0</td>\n",
       "      <td>2.0</td>\n",
       "      <td>NaN</td>\n",
       "      <td>0.0</td>\n",
       "      <td>VMC</td>\n",
       "      <td>Approach</td>\n",
       "      <td>Probable Cause</td>\n",
       "      <td>16-04-1980</td>\n",
       "    </tr>\n",
       "  </tbody>\n",
       "</table>\n",
       "<p>5 rows × 31 columns</p>\n",
       "</div>"
      ],
      "text/plain": [
       "         Event.Id Investigation.Type Accident.Number  Event.Date  \\\n",
       "0  20001218X45444           Accident      SEA87LA080  1948-10-24   \n",
       "1  20001218X45447           Accident      LAX94LA336  1962-07-19   \n",
       "2  20061025X01555           Accident      NYC07LA005  1974-08-30   \n",
       "3  20001218X45448           Accident      LAX96LA321  1977-06-19   \n",
       "4  20041105X01764           Accident      CHI79FA064  1979-08-02   \n",
       "\n",
       "          Location        Country   Latitude   Longitude Airport.Code  \\\n",
       "0  MOOSE CREEK, ID  United States        NaN         NaN          NaN   \n",
       "1   BRIDGEPORT, CA  United States        NaN         NaN          NaN   \n",
       "2    Saltville, VA  United States  36.922223  -81.878056          NaN   \n",
       "3       EUREKA, CA  United States        NaN         NaN          NaN   \n",
       "4       Canton, OH  United States        NaN         NaN          NaN   \n",
       "\n",
       "  Airport.Name  ... Purpose.of.flight Air.carrier Total.Fatal.Injuries  \\\n",
       "0          NaN  ...          Personal         NaN                  2.0   \n",
       "1          NaN  ...          Personal         NaN                  4.0   \n",
       "2          NaN  ...          Personal         NaN                  3.0   \n",
       "3          NaN  ...          Personal         NaN                  2.0   \n",
       "4          NaN  ...          Personal         NaN                  1.0   \n",
       "\n",
       "  Total.Serious.Injuries Total.Minor.Injuries Total.Uninjured  \\\n",
       "0                    0.0                  0.0             0.0   \n",
       "1                    0.0                  0.0             0.0   \n",
       "2                    NaN                  NaN             NaN   \n",
       "3                    0.0                  0.0             0.0   \n",
       "4                    2.0                  NaN             0.0   \n",
       "\n",
       "  Weather.Condition  Broad.phase.of.flight   Report.Status Publication.Date  \n",
       "0               UNK                 Cruise  Probable Cause              NaN  \n",
       "1               UNK                Unknown  Probable Cause       19-09-1996  \n",
       "2               IMC                 Cruise  Probable Cause       26-02-2007  \n",
       "3               IMC                 Cruise  Probable Cause       12-09-2000  \n",
       "4               VMC               Approach  Probable Cause       16-04-1980  \n",
       "\n",
       "[5 rows x 31 columns]"
      ]
     },
     "execution_count": 3,
     "metadata": {},
     "output_type": "execute_result"
    }
   ],
   "source": [
    "df = pd.read_csv('data/Aviation_data.csv', low_memory=False)\n",
    "df.head()"
   ]
  },
  {
   "cell_type": "markdown",
   "metadata": {},
   "source": [
    " ### Check The Data Types and Summary Statistics ###\n",
    "We can check for the data types in the dataset to get an overview of the data distributution\n"
   ]
  },
  {
   "cell_type": "code",
   "execution_count": null,
   "metadata": {
    "scrolled": true
   },
   "outputs": [],
   "source": [
    "# here we check data types of the columns\n",
    "df.info()"
   ]
  },
  {
   "cell_type": "markdown",
   "metadata": {},
   "source": [
    "**Null Values**\n",
    "\n",
    "Several columns contain missing values for example **Latitude** and **Longitude** with 34000 non null entries\n",
    "Columns like **Aircraft.Category** and **FAR.Description** have over 50,000 missing values.\n",
    "**Total.Fatal.Injuries**, **Total.Serious.Injuries**, **Total.Minor.Injuries**, and **Total.Uninjured** have some missing entries too.\n",
    "\n",
    "**Data Types**\n",
    "Most of the columns are of object type, while a few are float64 (likely numerical data like injury counts)."
   ]
  },
  {
   "cell_type": "markdown",
   "metadata": {},
   "source": [
    "The injuries i.e fatal, serious and minor occur less likely with a mojority of incidents resulting in no injuries\n",
    "There exists some outliers with a high number of injuries or fatalities.\n",
    "The number of engines typically ranges from 1 to 8, but the presence of 0 engines in some entries could suggest data quality issues that requeres cleaning"
   ]
  },
  {
   "cell_type": "code",
   "execution_count": null,
   "metadata": {},
   "outputs": [],
   "source": [
    "# Here we get to display all the column headers\n",
    "df.columns"
   ]
  },
  {
   "cell_type": "markdown",
   "metadata": {},
   "source": [
    "Understand the unique values in the categorical data like Injury.Severity and weather.Conditions and know the range of values"
   ]
  },
  {
   "cell_type": "code",
   "execution_count": null,
   "metadata": {},
   "outputs": [],
   "source": [
    "# Get the Unique values in the weather.Condtion \n",
    "df['Weather.Condition'].unique()\n"
   ]
  },
  {
   "cell_type": "code",
   "execution_count": null,
   "metadata": {},
   "outputs": [],
   "source": [
    "df"
   ]
  },
  {
   "cell_type": "markdown",
   "metadata": {},
   "source": [
    "### Data Cleaning ###\n",
    "#### Check For Missing Values ####\n",
    "We need to check for missing values and identify columns or rows with with missing values. This is essential to know where the data is incomplete and may require handling during the cleaning phase."
   ]
  },
  {
   "cell_type": "code",
   "execution_count": null,
   "metadata": {},
   "outputs": [],
   "source": [
    "# check for the total missing values in each columns\n",
    "df.isnull().sum()"
   ]
  },
  {
   "cell_type": "code",
   "execution_count": null,
   "metadata": {
    "scrolled": false
   },
   "outputs": [],
   "source": [
    "# Calculate the percentage of missing values in each column\n",
    "(df.isnull().sum() / len(df)) * 100\n",
    "\n"
   ]
  },
  {
   "cell_type": "markdown",
   "metadata": {},
   "source": [
    "### Check for Duplicates ### \n",
    "Duplicate records can skew analysis and data understanding results. Identifying and removing duplicate entries is important."
   ]
  },
  {
   "cell_type": "code",
   "execution_count": null,
   "metadata": {},
   "outputs": [],
   "source": [
    "# Check for duplicate rows\n",
    "duplicate_rows = df.duplicated().sum()\n",
    "duplicate_rows\n"
   ]
  },
  {
   "cell_type": "code",
   "execution_count": null,
   "metadata": {},
   "outputs": [],
   "source": [
    "# Drop Dulicated rows \n",
    "df.drop_duplicates(inplace=True)"
   ]
  },
  {
   "cell_type": "code",
   "execution_count": null,
   "metadata": {
    "scrolled": false
   },
   "outputs": [],
   "source": [
    "df.isnull().mean()*100"
   ]
  },
  {
   "cell_type": "markdown",
   "metadata": {},
   "source": [
    "### Dropping Irrelevant columns ###\n",
    "The Columns to drop depend on how usefull they are and how their absence could affect the data analysis.\n",
    "\n",
    "**Accident.Number:** Identifier columns that are not useful for analysis.\n",
    "\n",
    "**Airport.Code:** Might not contribute meaningful information. \n",
    "\n",
    "**Airport.Name:** Might not contribute meaningful information.\n",
    "\n",
    "**FAR.Description:** Too many missing values.\n",
    "\n",
    "**Schedule:** Too many missing values and could be irrelevant.\n",
    "\n",
    "**Air.carrier:** Not be useful for the analysis.\n",
    "\n",
    "**Longitude/Latitude:** Too much missing values and not that much relevant\n",
    "\n",
    "**Schedule:** May not be relevant to the analysis of accidents."
   ]
  },
  {
   "cell_type": "markdown",
   "metadata": {},
   "source": [
    "### Correct Data Types ###\n",
    "Make sure that the columns have the correct datatypes like data time.\n",
    "Also clean columns by stripping whitespace and converting to lowercase."
   ]
  },
  {
   "cell_type": "code",
   "execution_count": null,
   "metadata": {},
   "outputs": [],
   "source": [
    "# Convert 'Event.Date' to datetime format\n",
    "df['Event.Date'] = pd.to_datetime(df['Event.Date'], errors='coerce')\n",
    "\n",
    "df['Location'] = df['Location'].str.strip().str.lower()\n",
    "df['Country'] = df['Country'].str.strip().str.lower()\n"
   ]
  },
  {
   "cell_type": "code",
   "execution_count": null,
   "metadata": {},
   "outputs": [],
   "source": [
    "df.drop(columns=['Accident.Number','Schedule', 'Airport.Code', 'Airport.Name', 'Longitude','Latitude', 'FAR.Description', 'Schedule', 'Air.carrier'], inplace=True)\n"
   ]
  },
  {
   "cell_type": "code",
   "execution_count": null,
   "metadata": {},
   "outputs": [],
   "source": [
    "# confirm that the columns have been dropped\n",
    "df.shape"
   ]
  },
  {
   "cell_type": "markdown",
   "metadata": {},
   "source": [
    "### Filling Null Values with Mean, Median or Mode ###\n",
    "For **Categorical data** we will impute the values with the mode i.e the most recurring set of data. \n",
    "\n",
    "If there are no significant **outliers** in the data, the **mean** will provide a reliable estimate.\n",
    "\n",
    "If there are outliers, the **median** provides a better central value because it is not influenced by extreme values.\n",
    "\n",
    "For Columns such as **Total.Fatal.Injuries**, **Total.Minor.Injuries**, **Total.Serious.Injuries**, **Total.Uninjured**, **Number.of.engines** we are going to impute with the mean"
   ]
  },
  {
   "cell_type": "code",
   "execution_count": null,
   "metadata": {},
   "outputs": [],
   "source": [
    "# Fill the Total.Fatal.Injuries missing values with the mean\n",
    "df['Total.Fatal.Injuries'] = df['Total.Fatal.Injuries'].fillna(df['Total.Fatal.Injuries'].mean())\n",
    "\n",
    "# Fill the Total.Serious.Injuries missing values with the mean\n",
    "df['Total.Serious.Injuries'] = df['Total.Serious.Injuries'].fillna(df['Total.Serious.Injuries'].mean())\n",
    "\n",
    "# Fill the Total.Minor.Injuries missing values with the mean\n",
    "df['Total.Minor.Injuries'] = df['Total.Minor.Injuries'].fillna(df['Total.Minor.Injuries'].mean())\n",
    "\n",
    "# Fill the minor Injuries missing values with the mean\n",
    "df['Total.Minor.Injuries'] = df['Total.Minor.Injuries'].fillna(df['Total.Minor.Injuries'].mean())\n",
    "\n",
    "# Fill the Number of engines Missing values with the mean\n",
    "df['Number.of.Engines'] = df['Number.of.Engines'].fillna(df['Number.of.Engines'].mean())\n"
   ]
  },
  {
   "cell_type": "markdown",
   "metadata": {},
   "source": [
    "### Group the Data and see the relationship between different Columns ###\n",
    "#### Countries with the Highest Fatal Injuries ####\n",
    "Did the grouping of the data by Country the total fatal injuries. This will allow us to identify countries with the most fatalities.\n",
    "This will help to understand geographical risks in aviation and which countries which are more prone to aviation accidents with fatal outcomes.\n"
   ]
  },
  {
   "cell_type": "code",
   "execution_count": null,
   "metadata": {},
   "outputs": [],
   "source": [
    "# Group by Country and sum the Total.Fatal.Injuries\n",
    "country_fatalities = df.groupby('Country')['Total.Fatal.Injuries'].sum().sort_values(ascending=False)\n",
    "country_fatalities.head(10)"
   ]
  },
  {
   "cell_type": "code",
   "execution_count": null,
   "metadata": {},
   "outputs": [],
   "source": [
    "# Plot Countries with highest fatalities\n",
    "plt.figure(figsize=(8,6))\n",
    "country_fatalities.head(10).plot(kind='bar', color='skyblue')\n",
    "plt.title('Top 10 Countries with Highest Fatal Injuries')\n",
    "plt.ylabel('Total Fatal Injuries')\n",
    "plt.xlabel('Country')\n",
    "plt.xticks(rotation=45)\n",
    "plt.show()"
   ]
  },
  {
   "cell_type": "markdown",
   "metadata": {},
   "source": [
    "The United States has a significantly higher fatal injuries (37,092), which may indicate a higher volume of flights, accidents, or risks in the country. Brazil, India, Canada, and Indonesia also have notable figures, suggesting that accident risks in these regions should be carefully evaluated before venturing into the market. It might be wise to focus on regions with lower fatality rates."
   ]
  },
  {
   "cell_type": "markdown",
   "metadata": {},
   "source": [
    "#### Aircraft Makes with the Highest Average Number of Engines ####\n",
    "Grouping by Make and averaging the number of engines is going determine which aircraft makes generally have more engines. This information could be relevant when analyzing aircraft types that experience higher or lower accident rates.\n",
    "\n",
    "This helps us analyze the correlation between having engine and being involved in a specific type of accident. "
   ]
  },
  {
   "cell_type": "code",
   "execution_count": null,
   "metadata": {
    "scrolled": true
   },
   "outputs": [],
   "source": [
    "# Group by Make and average Number.of.Engines\n",
    "make_avg_engines = df.groupby('Make')['Number.of.Engines'].mean().sort_values(ascending=False)\n"
   ]
  },
  {
   "cell_type": "code",
   "execution_count": null,
   "metadata": {
    "scrolled": true
   },
   "outputs": [],
   "source": [
    "# Aircraft makes with the highest average number of engines\n",
    "plt.figure(figsize=(10,6))\n",
    "make_avg_engines.head(10).plot(kind='bar', color='red')\n",
    "plt.title('Top 10 Aircraft Makes with Highest Average Number of Engines')\n",
    "plt.ylabel('Average Number of Engines')\n",
    "plt.xlabel('Make')\n",
    "plt.xticks(rotation=45)\n",
    "plt.show()"
   ]
  },
  {
   "cell_type": "markdown",
   "metadata": {},
   "source": [
    "Manufacturers like Kitty Hawk and JOBY AERO INC have a relatively high number of engines per aircraft, which could be complex or have higher maintenance costs. Focusing on simpler aircraft with fewer engines but still meeting operational needs could help reduce both risks and costs."
   ]
  },
  {
   "cell_type": "markdown",
   "metadata": {},
   "source": [
    "### Fatal Injuries by Weather Condition ###\n",
    "Grouping Weather.Condition to examine how different weather conditions correlate with aviation fatalities.\n",
    "This will let us know if certain weather conditions pose a higher risk for avaiation accidents.\n",
    "\n",
    "**Visual Meteorological Conditions (VMC)** Refers to weather conditions where the visibility is good enough for the pilot or crew to fly the aircraft using visual reference i.e., the pilot can see outside and doesn't need to rely on instruments. VMC suggests clear skies or good weather where the pilot can navigate visually. Despite good weather, accidents can still occur due to other factors such as human error or mechanical failure.\n",
    "\n",
    "**Instrument Meteorological Conditions (IMC)** Refers to weather conditions that are poor enough that the pilot must rely on the aircraft's instruments for navigation i.e visibility is reduced\n"
   ]
  },
  {
   "cell_type": "code",
   "execution_count": null,
   "metadata": {},
   "outputs": [],
   "source": [
    "# Group by Weather.Condition and sum Total.Fatal.Injuries\n",
    "weather_fatalities = df.groupby('Weather.Condition')['Total.Fatal.Injuries'].sum().sort_values(ascending=False)\n",
    "weather_fatalities.head(10)"
   ]
  },
  {
   "cell_type": "code",
   "execution_count": null,
   "metadata": {
    "scrolled": true
   },
   "outputs": [],
   "source": [
    "# Plot: Fatal injuries based on weather conditions\n",
    "plt.figure(figsize=(8,5))\n",
    "weather_fatalities.plot(kind='bar', color='blue')\n",
    "plt.title('Fatal Injuries by Weather Condition')\n",
    "plt.ylabel('Total Fatal Injuries')\n",
    "plt.xlabel('Weather Condition')\n",
    "plt.xticks(rotation=45)\n",
    "plt.show()\n",
    "plt.savefig('line_plot.jpg')"
   ]
  },
  {
   "cell_type": "markdown",
   "metadata": {},
   "source": [
    "The majority of fatal injuries occur under **Visual Meteorological Conditions (VMC)**, with a total of 32,427, while **Instrument Meteorological Conditions (IMC)** have a smaller fatalities (12,075). The company should consider investing in safety measures, training, or technology that mitigates pilot errors or misjudgments under VMC."
   ]
  },
  {
   "cell_type": "markdown",
   "metadata": {},
   "source": [
    "### Aircraft.damage and sum Total.Fatal.Injuries ###\n",
    "Grouping Aircraft damage and the sum of total fatalities helps to identify the fatalities outcomes with different aircraft damage and how may affect decisions on what kind of aitcrafts to purchase."
   ]
  },
  {
   "cell_type": "code",
   "execution_count": null,
   "metadata": {},
   "outputs": [],
   "source": [
    "# Group by Aircraft.damage and sum Total.Fatal.Injuries\n",
    "damage_fatalities = df.groupby('Aircraft.damage')['Total.Fatal.Injuries'].sum().sort_values(ascending=False)"
   ]
  },
  {
   "cell_type": "code",
   "execution_count": null,
   "metadata": {
    "scrolled": true
   },
   "outputs": [],
   "source": [
    "# Plot Fatal injuries by aircraft damage type\n",
    "plt.figure(figsize=(8,5))\n",
    "damage_fatalities.plot(kind='bar', color='purple')\n",
    "plt.title('Fatal Injuries by Aircraft Damage Type')\n",
    "plt.ylabel('Total Fatal Injuries')\n",
    "plt.xlabel('Aircraft Damage')\n",
    "plt.xticks(rotation=45)\n",
    "plt.show()"
   ]
  },
  {
   "cell_type": "markdown",
   "metadata": {},
   "source": [
    "**Destroyed Aircrafts** account for the majority of fatalities. This shows that incidents where the aircraft is destroyed have the greatest risk. \n",
    "The company should consider aircraft models based on factorrs such as durability and survival rates after accident to minimize life loss or fatality risks. \n"
   ]
  },
  {
   "cell_type": "markdown",
   "metadata": {},
   "source": [
    "### Fatal Injuries by Purpose of Flight ###\n",
    "Grouping Purpose.of.flight to investigate which flight types (e.g., commercial, private, or military) have higher fatality rates.\n",
    "This can provide insights into the risk levels of different types of flight operations.\n"
   ]
  },
  {
   "cell_type": "code",
   "execution_count": null,
   "metadata": {},
   "outputs": [],
   "source": [
    "# Group by Purpose.of.flight and sum Total.Fatal.Injuries\n",
    "purpose_fatalities = df.groupby('Purpose.of.flight')['Total.Fatal.Injuries'].sum().sort_values(ascending=False).head(10)\n"
   ]
  },
  {
   "cell_type": "code",
   "execution_count": null,
   "metadata": {},
   "outputs": [],
   "source": [
    "# Plot Fatal injuries by purpose of flight\n",
    "plt.figure(figsize=(8,5))\n",
    "purpose_fatalities.plot(kind='bar', color='orange')\n",
    "plt.title('Fatal Injuries by Purpose of Flight')\n",
    "plt.ylabel('Total Fatal Injuries')\n",
    "plt.xlabel('Purpose of Flight')\n",
    "plt.xticks(rotation=45)\n",
    "plt.savefig('fatalbypurpose2')\n",
    "plt.show()"
   ]
  },
  {
   "cell_type": "markdown",
   "metadata": {},
   "source": [
    "**Personal flights** account for the highest number of fatal injuries, followed by Unknown and Instructional purposes. \n",
    "**Business flights** , which account for fewer injuries, may present a safer and more controlled entry point for the company."
   ]
  },
  {
   "cell_type": "markdown",
   "metadata": {},
   "source": [
    "### Exploratory Data Analysis (EDA) ###\n",
    "This is a crucial step in understanding the data before diving into modeling. In this phase, we aim to summarize the main characteristics of the dataset, often using visual methods. \n",
    "For categorical variables, we look at the count of unique values. This helps us understand the distribution of different categories. For example, we can check how many different types of investigations are present in our dataset."
   ]
  },
  {
   "cell_type": "code",
   "execution_count": null,
   "metadata": {},
   "outputs": [],
   "source": [
    "# To get some meaningful statistics of our data\n",
    "df.describe()"
   ]
  },
  {
   "cell_type": "markdown",
   "metadata": {},
   "source": [
    "We know that Weather conditions for example are crucial when investigating plane crashes and air safaty, We can check the distribution of the Weather column "
   ]
  },
  {
   "cell_type": "code",
   "execution_count": null,
   "metadata": {
    "scrolled": false
   },
   "outputs": [],
   "source": [
    "# Distribution of weather condition\n",
    "df['Weather.Condition'].value_counts()"
   ]
  },
  {
   "cell_type": "code",
   "execution_count": null,
   "metadata": {
    "scrolled": true
   },
   "outputs": [],
   "source": [
    "df.boxplot(column=['Total.Fatal.Injuries'])\n",
    "plt.title('Box Plot of Total Fatal Injuries')\n",
    "plt.show()\n"
   ]
  },
  {
   "cell_type": "markdown",
   "metadata": {},
   "source": [
    "### Correlation Analysis ###\n",
    "Correlation measures the strength and direction of the relationship between two numerical variables. For EDA"
   ]
  },
  {
   "cell_type": "code",
   "execution_count": null,
   "metadata": {},
   "outputs": [],
   "source": [
    "# Correlation matrix for numerical columns\n",
    "correlation_matrix = df.corr()\n",
    "correlation_matrix\n"
   ]
  },
  {
   "cell_type": "code",
   "execution_count": null,
   "metadata": {},
   "outputs": [],
   "source": [
    "# correlation matrix\n",
    "sns.heatmap(correlation_matrix, annot=True, cmap='coolwarm')\n",
    "plt.title('Correlation Matrix')\n",
    "plt.show()\n"
   ]
  },
  {
   "cell_type": "markdown",
   "metadata": {},
   "source": [
    "#### Number of Engines and Total Uninjured #####\n",
    "There is a moderate positive correlation (0.406) between the number of engines and the total number of uninjured people.meaning that generally, the higher the number of engines,the higher the number of uninjured passengers \n",
    "\n",
    "#### Total Fatal Injuries ####\n",
    "The correlation with Total Serious Injuries (0.136) is weak but positive.\n",
    "This indicates that as serious injuries increase, there may also be a slight increase in fatal injuries, although the relationship is not strong.\n",
    "Interestingly, the correlation with Total Uninjured is negative (-0.015), suggesting that in scenarios where there are more fatalities, there are not necessarily more survivors, which might point to the severity of accidents.\n",
    "\n",
    "#### Total Minor Injuries  ####\n",
    "It shows a stronger correlation (0.327) with Total Serious Injuries, indicating that with serious injuries, minor injuries are also likely to occur.\n"
   ]
  },
  {
   "cell_type": "markdown",
   "metadata": {},
   "source": [
    "### Line Plot of Fatal Injuries Over Time ###\n",
    "This is usefull in analyzing trends in fatal injuries over the years."
   ]
  },
  {
   "cell_type": "code",
   "execution_count": null,
   "metadata": {
    "scrolled": false
   },
   "outputs": [],
   "source": [
    "fatal_injuries_over_time = df.groupby(df['Event.Date'].dt.year)['Total.Fatal.Injuries'].sum()\n",
    "\n",
    "# Line Plot\n",
    "plt.figure(figsize=(10, 6))\n",
    "fatal_injuries_over_time.plot(kind='line', marker='o')\n",
    "plt.title('Total Fatal Injuries Over Time')\n",
    "plt.xlabel('Year')\n",
    "plt.ylabel('Total Fatal Injuries')\n",
    "plt.grid(True)\n",
    "plt.show()\n"
   ]
  },
  {
   "cell_type": "markdown",
   "metadata": {},
   "source": [
    "Scatter Plot of Fatal Injuries by Latitude and Longitude\n",
    "Purpose: Map the geographic distribution of fatal injuries using scatter plot."
   ]
  },
  {
   "cell_type": "markdown",
   "metadata": {},
   "source": [
    "**Box Plot of Injuries by Aircraft Category** \n",
    "This will help visualize the spread of total fatal injuries across different aircraft categories."
   ]
  },
  {
   "cell_type": "code",
   "execution_count": null,
   "metadata": {
    "scrolled": true
   },
   "outputs": [],
   "source": [
    "# box plot for Total Fatal Injuries by Aircraft Category\n",
    "plt.figure(figsize=(10, 6))\n",
    "sns.boxplot(data=df, x='Aircraft.Category', y='Total.Fatal.Injuries')\n",
    "plt.title('Box Plot of Total Fatal Injuries by Aircraft Category')\n",
    "plt.xticks(rotation=45)\n",
    "plt.show()\n"
   ]
  },
  {
   "cell_type": "code",
   "execution_count": null,
   "metadata": {},
   "outputs": [],
   "source": [
    "# Export the cleaned dataframe to a CSV file\n",
    "df.to_csv('cleaned_data_for_tableau.csv', index=False)\n"
   ]
  },
  {
   "cell_type": "code",
   "execution_count": null,
   "metadata": {},
   "outputs": [],
   "source": [
    "df['Year'] = df['Event.Date'].dt.year\n",
    "\n",
    "people_involved = df.groupby('Year')[['Total.Fatal.Injuries', 'Total.Serious.Injuries', 'Total.Minor.Injuries', 'Total.Uninjured']].sum()\n",
    "\n",
    "total number of people involved (injured + uninjured)\n",
    "people_injured['Total'] = people_injured.sum(axis=1)\n",
    "\n",
    "# Plotting\n",
    "import matplotlib.pyplot as plt\n",
    "\n",
    "plt.figure(figsize=(10, 6))\n",
    "plt.plot(people_injured.index, people_injured['Total'], marker='o', color='b')\n",
    "plt.title('Number of People Injured in Aviation Accidents Over the Years')\n",
    "plt.xlabel('Year')\n",
    "plt.ylabel('Number of People')\n",
    "plt.grid(True)\n",
    "plt.show()\n"
   ]
  }
 ],
 "metadata": {
  "kernelspec": {
   "display_name": "Python (lean-env)",
   "language": "python",
   "name": "learn-env"
  },
  "language_info": {
   "codemirror_mode": {
    "name": "ipython",
    "version": 3
   },
   "file_extension": ".py",
   "mimetype": "text/x-python",
   "name": "python",
   "nbconvert_exporter": "python",
   "pygments_lexer": "ipython3",
   "version": "3.8.5"
  }
 },
 "nbformat": 4,
 "nbformat_minor": 2
}
